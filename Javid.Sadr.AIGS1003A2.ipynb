{
 "cells": [
  {
   "cell_type": "code",
   "execution_count": 1,
   "id": "2f6eec1f-3336-4991-bbcf-7d4be6f35492",
   "metadata": {},
   "outputs": [],
   "source": [
    "import numpy as np\n",
    "import matplotlib.pyplot as plt\n",
    "import seaborn as sn\n",
    "import pandas as pd\n",
    "from scipy.spatial.distance import cdist\n",
    "from sklearn.metrics import silhouette_score, accuracy_score, confusion_matrix\n",
    "%matplotlib inline"
   ]
  },
  {
   "cell_type": "code",
   "execution_count": 2,
   "id": "814689fe-3fe8-4a43-994d-5d8872b990e6",
   "metadata": {},
   "outputs": [],
   "source": [
    "iris = pd.read_csv('Iris.csv')\n",
    "X = iris[['SepalLengthCm','SepalWidthCm', 'PetalLengthCm', 'PetalWidthCm']]\n",
    "yTarget = iris[['Species']]\n",
    "\n",
    "irisSpecies = iris['Species'].unique()\n",
    "species_dict = {}\n",
    "for idx, iris_specie in enumerate(irisSpecies):\n",
    "    species_dict[iris_specie] = idx"
   ]
  },
  {
   "cell_type": "code",
   "execution_count": 3,
   "id": "58855d16-2e94-48ea-a315-137421c42e0e",
   "metadata": {},
   "outputs": [
    {
     "name": "stderr",
     "output_type": "stream",
     "text": [
      "C:\\Users\\J.S\\AppData\\Local\\Temp\\ipykernel_3536\\2589008822.py:2: SettingWithCopyWarning: \n",
      "A value is trying to be set on a copy of a slice from a DataFrame.\n",
      "Try using .loc[row_indexer,col_indexer] = value instead\n",
      "\n",
      "See the caveats in the documentation: https://pandas.pydata.org/pandas-docs/stable/user_guide/indexing.html#returning-a-view-versus-a-copy\n",
      "  yTarget[yTarget['Species'] == iris_specie] = species_dict[iris_specie]\n",
      "C:\\Users\\J.S\\AppData\\Local\\Temp\\ipykernel_3536\\2589008822.py:2: SettingWithCopyWarning: \n",
      "A value is trying to be set on a copy of a slice from a DataFrame\n",
      "\n",
      "See the caveats in the documentation: https://pandas.pydata.org/pandas-docs/stable/user_guide/indexing.html#returning-a-view-versus-a-copy\n",
      "  yTarget[yTarget['Species'] == iris_specie] = species_dict[iris_specie]\n"
     ]
    }
   ],
   "source": [
    "for iris_specie in irisSpecies:\n",
    "    yTarget[yTarget['Species'] == iris_specie] = species_dict[iris_specie]"
   ]
  },
  {
   "cell_type": "code",
   "execution_count": 4,
   "id": "3b69fa49-dafb-429c-8feb-2fee0dacfec4",
   "metadata": {},
   "outputs": [],
   "source": [
    "yTargetSpecies = yTarget['Species'].values\n",
    "yTargetFormat = np.array(list(yTargetSpecies), dtype=np.int64)"
   ]
  },
  {
   "cell_type": "code",
   "execution_count": 5,
   "id": "8b196e52-46a7-46d0-81bb-cb74e3d6e34c",
   "metadata": {},
   "outputs": [],
   "source": [
    "def k_means(X, K):\n",
    "    centroids_history = []\n",
    "    labels_history = []\n",
    "    rand_index = np.random.choice(X.shape[0], K)  \n",
    "    centroids = X[rand_index]\n",
    "    centroids_history.append(centroids)\n",
    "    \n",
    "    while True:\n",
    "\n",
    "        labels = np.argmin(cdist(X, centroids), axis=1)\n",
    "        labels_history.append(labels)\n",
    "        new_centroids = np.array([X[labels == i].mean(axis=0)\n",
    "                                for i in range(K)])\n",
    "        centroids_history.append(new_centroids)\n",
    "        \n",
    "        if np.all(centroids == new_centroids):\n",
    "            break\n",
    "        centroids = new_centroids\n",
    "    \n",
    "    return centroids, labels, centroids_history, labels_history"
   ]
  },
  {
   "cell_type": "code",
   "execution_count": 6,
   "id": "6f6f6eee-0933-4209-841b-a32930401167",
   "metadata": {},
   "outputs": [],
   "source": [
    "X_mat = X.values\n",
    "K_clusters = 3\n",
    "centroids, labels, centroids_history, labels_history = k_means(X_mat, K_clusters)"
   ]
  },
  {
   "cell_type": "code",
   "execution_count": 7,
   "id": "ce0cebfb-0afa-401f-aaaa-b62df605447a",
   "metadata": {},
   "outputs": [],
   "source": [
    "def get_confusion_matrix(y_target_in, labels_in):\n",
    "    conf_mat = confusion_matrix(y_target_in, labels_in)\n",
    "    conf_mat_df = pd.DataFrame(conf_mat, index=irisSpecies, columns=irisSpecies)\n",
    "    \n",
    "    plt.figure(figsize=(5.5,4))\n",
    "    plt.title('Confusion Matrix for Iris Data')\n",
    "    plt.imshow(conf_mat_df, cmap='hot', interpolation='nearest')\n",
    "    plt.ylabel('True label')\n",
    "    plt.xlabel('Predicted label')\n",
    "    plt.show()\n",
    "    \n",
    "    return conf_mat_df"
   ]
  },
  {
   "cell_type": "code",
   "execution_count": 8,
   "id": "c9c61fc6-772f-4e4d-a5bf-306ed567993c",
   "metadata": {},
   "outputs": [
    {
     "name": "stdout",
     "output_type": "stream",
     "text": [
      "0.02\n"
     ]
    }
   ],
   "source": [
    "calculated_accuracy_score = accuracy_score(yTargetFormat, labels)\n",
    "print(calculated_accuracy_score)"
   ]
  },
  {
   "cell_type": "code",
   "execution_count": 9,
   "id": "a010f007-14df-4a1f-b6c2-64351eeacfc8",
   "metadata": {
    "scrolled": true
   },
   "outputs": [
    {
     "data": {
      "image/png": "[encoded data removed]",
      "text/plain": [
       "<Figure size 396x288 with 1 Axes>"
      ]
     },
     "metadata": {
      "needs_background": "light"
     },
     "output_type": "display_data"
    },
    {
     "data": {
      "text/html": [
       "<div>\n",
       "<style scoped>\n",
       "    .dataframe tbody tr th:only-of-type {\n",
       "        vertical-align: middle;\n",
       "    }\n",
       "\n",
       "    .dataframe tbody tr th {\n",
       "        vertical-align: top;\n",
       "    }\n",
       "\n",
       "    .dataframe thead th {\n",
       "        text-align: right;\n",
       "    }\n",
       "</style>\n",
       "<table border=\"1\" class=\"dataframe\">\n",
       "  <thead>\n",
       "    <tr style=\"text-align: right;\">\n",
       "      <th></th>\n",
       "      <th>Iris-setosa</th>\n",
       "      <th>Iris-versicolor</th>\n",
       "      <th>Iris-virginica</th>\n",
       "    </tr>\n",
       "  </thead>\n",
       "  <tbody>\n",
       "    <tr>\n",
       "      <th>Iris-setosa</th>\n",
       "      <td>0</td>\n",
       "      <td>26</td>\n",
       "      <td>24</td>\n",
       "    </tr>\n",
       "    <tr>\n",
       "      <th>Iris-versicolor</th>\n",
       "      <td>47</td>\n",
       "      <td>3</td>\n",
       "      <td>0</td>\n",
       "    </tr>\n",
       "    <tr>\n",
       "      <th>Iris-virginica</th>\n",
       "      <td>50</td>\n",
       "      <td>0</td>\n",
       "      <td>0</td>\n",
       "    </tr>\n",
       "  </tbody>\n",
       "</table>\n",
       "</div>"
      ],
      "text/plain": [
       "                 Iris-setosa  Iris-versicolor  Iris-virginica\n",
       "Iris-setosa                0               26              24\n",
       "Iris-versicolor           47                3               0\n",
       "Iris-virginica            50                0               0"
      ]
     },
     "execution_count": 9,
     "metadata": {},
     "output_type": "execute_result"
    }
   ],
   "source": [
    "conf_mat_df = get_confusion_matrix(yTargetFormat, labels)\n",
    "conf_mat_df"
   ]
  },
  {
   "cell_type": "markdown",
   "id": "697e8147-6263-4e50-b06a-88bb5f436160",
   "metadata": {},
   "source": [
    "### Running the algo 55 times"
   ]
  },
  {
   "cell_type": "code",
   "execution_count": 10,
   "id": "04b229e5-6ae2-41a1-ac44-5282388ddc09",
   "metadata": {},
   "outputs": [
    {
     "name": "stdout",
     "output_type": "stream",
     "text": [
      "Iteration acount: 0\n",
      "Iteration acount: 1\n",
      "Iteration acount: 2\n",
      "Iteration acount: 3\n",
      "Iteration acount: 4\n",
      "Iteration acount: 5\n",
      "Iteration acount: 6\n",
      "Iteration acount: 7\n",
      "Iteration acount: 8\n",
      "Iteration acount: 9\n",
      "Iteration acount: 10\n",
      "Iteration acount: 11\n",
      "Iteration acount: 12\n",
      "Iteration acount: 13\n",
      "Iteration acount: 14\n",
      "Iteration acount: 15\n",
      "Iteration acount: 16\n",
      "Iteration acount: 17\n",
      "Iteration acount: 18\n",
      "Iteration acount: 19\n",
      "Iteration acount: 20\n",
      "Iteration acount: 21\n",
      "Iteration acount: 22\n",
      "Iteration acount: 23\n",
      "Iteration acount: 24\n",
      "Iteration acount: 25\n",
      "Iteration acount: 26\n",
      "Iteration acount: 27\n",
      "Iteration acount: 28\n",
      "Iteration acount: 29\n",
      "Iteration acount: 30\n",
      "Iteration acount: 31\n",
      "Iteration acount: 32\n",
      "Iteration acount: 33\n",
      "Iteration acount: 34\n",
      "Iteration acount: 35\n",
      "Iteration acount: 36\n",
      "Iteration acount: 37\n",
      "Iteration acount: 38\n",
      "Iteration acount: 39\n",
      "Iteration acount: 40\n",
      "Iteration acount: 41\n",
      "Iteration acount: 42\n",
      "Iteration acount: 43\n",
      "Iteration acount: 44\n",
      "Iteration acount: 45\n",
      "Iteration acount: 46\n",
      "Iteration acount: 47\n",
      "Iteration acount: 48\n",
      "Iteration acount: 49\n",
      "Iteration acount: 50\n",
      "Iteration acount: 51\n",
      "Iteration acount: 52\n",
      "Iteration acount: 53\n",
      "Iteration acount: 54\n"
     ]
    }
   ],
   "source": [
    "yTargetFormat = np.array(list(yTargetSpecies), dtype=np.int64)\n",
    "\n",
    "accuracy_dict = {}\n",
    "accuracy_score_list = []\n",
    "\n",
    "for i in range(55):\n",
    "    print(f'Iteration acount: {i}')\n",
    "    centroids, labels, centroids_history, labels_history = k_means(X_mat, K_clusters)\n",
    "\n",
    "    calculated_accuracy_score = accuracy_score(yTargetFormat, labels)\n",
    "    dict_data = {\n",
    "        'accuracy_score_calculated': calculated_accuracy_score,\n",
    "        'centroids': centroids\n",
    "    }\n",
    "    accuracy_dict[i] = dict_data\n",
    "    accuracy_score_list.append(calculated_accuracy_score)"
   ]
  },
  {
   "cell_type": "code",
   "execution_count": 11,
   "id": "a6c33c3c-181b-4bef-8176-53948e54f2d7",
   "metadata": {},
   "outputs": [
    {
     "data": {
      "text/plain": [
       "0.8933333333333333"
      ]
     },
     "execution_count": 11,
     "metadata": {},
     "output_type": "execute_result"
    }
   ],
   "source": [
    "max_accuracy_score = max([val['accuracy_score_calculated'] for key,val in accuracy_dict.items()])\n",
    "max_accuracy_score"
   ]
  },
  {
   "cell_type": "code",
   "execution_count": 12,
   "id": "3755f460-2733-4d51-9fc6-bcefe849e55e",
   "metadata": {},
   "outputs": [
    {
     "data": {
      "text/plain": [
       "array([[5.006     , 3.418     , 1.464     , 0.244     ],\n",
       "       [5.9016129 , 2.7483871 , 4.39354839, 1.43387097],\n",
       "       [6.85      , 3.07368421, 5.74210526, 2.07105263]])"
      ]
     },
     "execution_count": 12,
     "metadata": {},
     "output_type": "execute_result"
    }
   ],
   "source": [
    "k = [k for k,v in accuracy_dict.items() if v['accuracy_score_calculated'] == max_accuracy_score]\n",
    "best_centroid = accuracy_dict[k[0]]['centroids']\n",
    "best_centroid"
   ]
  },
  {
   "cell_type": "code",
   "execution_count": 13,
   "id": "01a14fb2-f389-43ed-8c9b-b9b3ea9be562",
   "metadata": {},
   "outputs": [
    {
     "data": {
      "image/png": "[encoded data removed]",
      "text/plain": [
       "<Figure size 432x288 with 1 Axes>"
      ]
     },
     "metadata": {
      "needs_background": "light"
     },
     "output_type": "display_data"
    }
   ],
   "source": [
    "x_data = range(0, len(accuracy_score_list))\n",
    "plt.scatter(x_data, accuracy_score_list, alpha=0.5)\n",
    "plt.title('Accuracy over the number of runs')\n",
    "plt.xlabel('Number of Runs')\n",
    "plt.ylabel('Accuracy')\n",
    "plt.show()"
   ]
  },
  {
   "cell_type": "markdown",
   "id": "74288575",
   "metadata": {},
   "source": [
    "## Q2"
   ]
  },
  {
   "cell_type": "code",
   "execution_count": 14,
   "id": "d6a2b287",
   "metadata": {},
   "outputs": [
    {
     "name": "stdout",
     "output_type": "stream",
     "text": [
      "Q Table\n",
      "[[0.00000000e+000 0.00000000e+000 0.00000000e+000 0.00000000e+000\n",
      "  1.00000000e+000 0.00000000e+000]\n",
      " [0.00000000e+000 0.00000000e+000 0.00000000e+000 9.28013007e-127\n",
      "  0.00000000e+000 1.00000000e+000]\n",
      " [0.00000000e+000 0.00000000e+000 0.00000000e+000 1.00000000e+000\n",
      "  0.00000000e+000 0.00000000e+000]\n",
      " [0.00000000e+000 4.89271359e-001 0.00000000e+000 0.00000000e+000\n",
      "  5.10728641e-001 0.00000000e+000]\n",
      " [6.43694045e-039 0.00000000e+000 0.00000000e+000 2.27517553e-125\n",
      "  0.00000000e+000 1.00000000e+000]\n",
      " [0.00000000e+000 0.00000000e+000 0.00000000e+000 0.00000000e+000\n",
      "  0.00000000e+000 1.00000000e+000]]\n",
      "Optimal Path for starting state 0\n",
      "0 -> 4 -> 5\n",
      "\n",
      "Optimal Path for starting state 1\n",
      "1 -> 5\n",
      "\n",
      "Optimal Path for starting state 2\n",
      "2 -> 3 -> 4 -> 5\n",
      "\n",
      "Optimal Path for starting state 3\n",
      "3 -> 4 -> 5\n",
      "\n",
      "Optimal Path for starting state 4\n",
      "4 -> 5\n",
      "\n",
      "Optimal Path for starting state 5\n",
      "5\n",
      "\n"
     ]
    }
   ],
   "source": [
    "# defines the reward matrix\n",
    "r = np.array([[-1, -1, -1, -1, 0, -1],\n",
    "              [-1, -1, -1, 0, -1, 100],\n",
    "              [-1, -1, -1, 0, -1, -1],\n",
    "              [-1, 0, 0, -1, 0, -1],\n",
    "              [0, -1, -1, 0, -1, 100],\n",
    "              [-1, 0, -1, -1, 0, 100]]).astype(\"float64\")\n",
    "q = np.zeros_like(r)\n",
    "\n",
    "\n",
    "def update_q(state, next_state, action, alpha, gamma):\n",
    "    r_sa = r[state, action]\n",
    "    q_sa = q[state, action]\n",
    "    new_q = q_sa + alpha * (r_sa + gamma * max(q[next_state, :]) - q_sa)\n",
    "    q[state, action] = new_q\n",
    "    # rescale to between 0 and 1\n",
    "    rn = q[state][q[state] > 0] / np.sum(q[state][q[state] > 0])\n",
    "    q[state][q[state] > 0] = rn\n",
    "    return r[state, action]\n",
    "\n",
    "\n",
    "def show_path():\n",
    "    # show all the paths\n",
    "    for i in range(len(q)):\n",
    "        current_state = i\n",
    "        path = \"%i -> \" % current_state\n",
    "        n_steps = 0\n",
    "        while current_state != 5 and n_steps < 20:\n",
    "            next_state = np.argmax(q[current_state])\n",
    "            current_state = next_state\n",
    "            path += \"%i -> \" % current_state\n",
    "            n_steps = n_steps + 1\n",
    "        # cut off final arrow\n",
    "        path = path[:-4]\n",
    "        print(\"Optimal Path for starting state %i\" % i)\n",
    "        print(path)\n",
    "        print(\"\")\n",
    "\n",
    "\n",
    "# hyperparameters\n",
    "gamma = 0.4  # vary this between 0 and 1 i.e., (0,1)\n",
    "alpha = 0.3  # vary this between 0 and 1 inclusive, i.e., [0,1]\n",
    "n_episodes = 300  # try different values, e.g., 10, 500, 10000 and so forth\n",
    "epsilon = 0.05  # you can experiment with this as well\n",
    "\n",
    "n_states = 6\n",
    "n_actions = 6\n",
    "\n",
    "random_state = np.random.RandomState(10)  # you may try without seed value and other seed values\n",
    "\n",
    "for e in range(int(n_episodes)):\n",
    "    states = list(range(n_states))\n",
    "    random_state.shuffle(states)\n",
    "    current_state = states[0]\n",
    "    goal = False\n",
    "    if e % int(n_episodes / 10.) == 0 and e > 0:\n",
    "        pass\n",
    "    while not goal:\n",
    "        # epsilon greedy\n",
    "        valid_moves = r[current_state] >= 0\n",
    "        if random_state.rand() < epsilon:\n",
    "            actions = np.array(list(range(n_actions)))\n",
    "            actions = actions[valid_moves == True]\n",
    "            if type(actions) is int:\n",
    "                actions = [actions]\n",
    "            random_state.shuffle(actions)\n",
    "            action = actions[0]\n",
    "            next_state = action\n",
    "        else:\n",
    "            if np.sum(q[current_state]) > 0:\n",
    "                action = np.argmax(q[current_state])\n",
    "            else:\n",
    "                # Don't allow invalid moves at the start\n",
    "                # Just take a random move\n",
    "                actions = np.array(list(range(n_actions)))\n",
    "                actions = actions[valid_moves == True]\n",
    "                random_state.shuffle(actions)\n",
    "                action = actions[0]\n",
    "            next_state = action\n",
    "        reward = update_q(current_state, next_state, action,\n",
    "                          alpha=alpha, gamma=gamma)\n",
    "        # Goal due to  rescaling\n",
    "        if reward > 1:\n",
    "            goal = True\n",
    "        current_state = next_state\n",
    "print(\"Q Table\")\n",
    "print(q)\n",
    "show_path()\n"
   ]
  }
 ],
 "metadata": {
  "kernelspec": {
   "display_name": "Python 3 (ipykernel)",
   "language": "python",
   "name": "python3"
  },
  "language_info": {
   "codemirror_mode": {
    "name": "ipython",
    "version": 3
   },
   "file_extension": ".py",
   "mimetype": "text/x-python",
   "name": "python",
   "nbconvert_exporter": "python",
   "pygments_lexer": "ipython3",
   "version": "3.9.12"
  }
 },
 "nbformat": 4,
 "nbformat_minor": 5
}
